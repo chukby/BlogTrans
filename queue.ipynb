{
  "nbformat": 4,
  "nbformat_minor": 0,
  "metadata": {
    "colab": {
      "provenance": [],
      "authorship_tag": "ABX9TyMnYMOyPKk3lXTtu64Z8e2a",
      "include_colab_link": true
    },
    "kernelspec": {
      "name": "python3",
      "display_name": "Python 3"
    },
    "language_info": {
      "name": "python"
    }
  },
  "cells": [
    {
      "cell_type": "markdown",
      "metadata": {
        "id": "view-in-github",
        "colab_type": "text"
      },
      "source": [
        "<a href=\"https://colab.research.google.com/github/chukby/BlogTrans/blob/main/queue.ipynb\" target=\"_parent\"><img src=\"https://colab.research.google.com/assets/colab-badge.svg\" alt=\"Open In Colab\"/></a>"
      ]
    },
    {
      "cell_type": "code",
      "execution_count": null,
      "metadata": {
        "id": "CsJR0BSHkEEV"
      },
      "outputs": [],
      "source": []
    },
    {
      "cell_type": "code",
      "source": [
        "print(\"Hello\")"
      ],
      "metadata": {
        "colab": {
          "base_uri": "https://localhost:8080/"
        },
        "id": "uW1K7tYukOZZ",
        "outputId": "9e59b5ea-502d-4658-a600-7e43363312d2"
      },
      "execution_count": 1,
      "outputs": [
        {
          "output_type": "stream",
          "name": "stdout",
          "text": [
            "Hello\n"
          ]
        }
      ]
    },
    {
      "cell_type": "code",
      "source": [
        "class Queue():\n",
        "  def __init__(self):\n",
        "    self.queue = []\n",
        "\n",
        "  def enqueue(self, value):\n",
        "    return self.queue.append(value)\n",
        "\n",
        "  def dequeue(self):\n",
        "    if len(self.queue) < 1:\n",
        "      return None\n",
        "    return self.queue.pop(0)\n",
        "\n",
        "  def display(self):\n",
        "    print(self.queue)\n",
        "\n",
        "  def size(self):\n",
        "    print(len(self.queue))\n",
        "\n",
        ""
      ],
      "metadata": {
        "id": "Ns4RMYWAkYZ4"
      },
      "execution_count": 2,
      "outputs": []
    },
    {
      "cell_type": "code",
      "source": [
        "testqueue = Queue()\n",
        "\n",
        "testqueue.enqueue(1)\n",
        "testqueue.enqueue(2)\n",
        "testqueue.enqueue(3)\n",
        "testqueue.enqueue(4)\n",
        "testqueue.enqueue(5)"
      ],
      "metadata": {
        "id": "sx-9oEZRlXVx"
      },
      "execution_count": 3,
      "outputs": []
    },
    {
      "cell_type": "code",
      "source": [
        "testqueue.display()"
      ],
      "metadata": {
        "colab": {
          "base_uri": "https://localhost:8080/"
        },
        "id": "vVy4AibslsRy",
        "outputId": "86077e05-880b-49f9-b0c9-1688ae862b3f"
      },
      "execution_count": 5,
      "outputs": [
        {
          "output_type": "stream",
          "name": "stdout",
          "text": [
            "[1, 2, 3, 4, 5]\n"
          ]
        }
      ]
    },
    {
      "cell_type": "code",
      "source": [
        "testqueue.dequeue()\n",
        "testqueue.display()\n",
        "testqueue.size()"
      ],
      "metadata": {
        "colab": {
          "base_uri": "https://localhost:8080/"
        },
        "id": "MdwFLHVnl1w0",
        "outputId": "6fac0d21-9ddb-479f-a57f-fbf802a405ce"
      },
      "execution_count": 9,
      "outputs": [
        {
          "output_type": "stream",
          "name": "stdout",
          "text": [
            "[2, 3, 4, 5]\n",
            "4\n"
          ]
        }
      ]
    }
  ]
}